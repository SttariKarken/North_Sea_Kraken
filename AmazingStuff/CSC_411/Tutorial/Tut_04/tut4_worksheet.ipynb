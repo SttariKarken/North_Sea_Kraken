{
 "cells": [
  {
   "cell_type": "code",
   "execution_count": null,
   "metadata": {
    "collapsed": true
   },
   "outputs": [],
   "source": [
    "%matplotlib inline\n",
    "import matplotlib.pyplot as plt\n",
    "\n",
    "import numpy as np\n",
    "from numpy import linalg\n",
    "\n",
    "from sklearn.datasets import fetch_olivetti_faces"
   ]
  },
  {
   "cell_type": "markdown",
   "metadata": {},
   "source": [
    "For this exercise, you will be making use of the Olivetti Faces dataset. Here is a description from the original [website](https://www.cl.cam.ac.uk/research/dtg/attarchive/facedatabase.html):\n",
    "> There are ten different images of each of 40 distinct subjects. For some subjects, the images were taken at different times, varying the lighting, facial expressions (open / closed eyes, smiling / not smiling) and facial details (glasses / no glasses). All the images were taken against a dark homogeneous background with the subjects in an upright, frontal position (with tolerance for some side movement)."
   ]
  },
  {
   "cell_type": "code",
   "execution_count": null,
   "metadata": {
    "collapsed": false
   },
   "outputs": [],
   "source": [
    "# load faces dataset\n",
    "faces = fetch_olivetti_faces(shuffle=True).data"
   ]
  },
  {
   "cell_type": "code",
   "execution_count": null,
   "metadata": {
    "collapsed": false
   },
   "outputs": [],
   "source": [
    "faces.shape  # 400 images of dimension 64 x 64 \n",
    "# note: images are elongated into a 4096-dimensional vector"
   ]
  },
  {
   "cell_type": "markdown",
   "metadata": {},
   "source": [
    "For this exercise, we will be centering our dataset."
   ]
  },
  {
   "cell_type": "code",
   "execution_count": null,
   "metadata": {
    "collapsed": true
   },
   "outputs": [],
   "source": [
    "faces = faces - faces.mean(axis=0)  # center data"
   ]
  },
  {
   "cell_type": "markdown",
   "metadata": {},
   "source": [
    "Below is a function that will help you plot images."
   ]
  },
  {
   "cell_type": "code",
   "execution_count": null,
   "metadata": {
    "collapsed": false
   },
   "outputs": [],
   "source": [
    "# Helper method: Plots the first 15 images in the dataset.\n",
    "def plot_images(images):\n",
    "    images = images[0:15,:]\n",
    "    plt.figure(figsize=(10,7))\n",
    "    for i, image in enumerate(images):\n",
    "        plt.subplot(3, 5, i+1)\n",
    "        cmap_range = max(image.max(), -image.min())\n",
    "        reshaped =  image.reshape((64,64))\n",
    "        plt.imshow(reshaped, vmin=-cmap_range, vmax=cmap_range,\n",
    "                   cmap=plt.cm.gray, interpolation='nearest')\n",
    "        plt.xticks(())\n",
    "        plt.yticks(())"
   ]
  },
  {
   "cell_type": "markdown",
   "metadata": {},
   "source": [
    "---\n",
    "To get a sense of the dataset, let's first plot the first few images:"
   ]
  },
  {
   "cell_type": "code",
   "execution_count": null,
   "metadata": {
    "collapsed": false
   },
   "outputs": [],
   "source": [
    "plot_images(faces)"
   ]
  },
  {
   "cell_type": "markdown",
   "metadata": {},
   "source": [
    "---\n",
    "Your task begins here:"
   ]
  },
  {
   "cell_type": "code",
   "execution_count": null,
   "metadata": {
    "collapsed": false
   },
   "outputs": [],
   "source": [
    "\"\"\"\n",
    "In this box, compute the SVD of the Faces dataset. \n",
    "You may use the linalg module in numpy.\n",
    "You should get three outputs, the left singular matrix U, \n",
    "a vector of singular values S, and the transpose of the right \n",
    "singular matrix, V_T. \n",
    "\"\"\"\n",
    "def compute_svd(data):\n",
    "    pass\n",
    "\n",
    "U, S, V_T = compute_svd(faces)"
   ]
  },
  {
   "cell_type": "code",
   "execution_count": null,
   "metadata": {
    "collapsed": false
   },
   "outputs": [],
   "source": [
    "\"\"\"\n",
    "In this box, print the dimensions of each of U, S, and V_T. \n",
    "Are these dimensions in line with your expectations?\n",
    "\"\"\"\n",
    "pass "
   ]
  },
  {
   "cell_type": "code",
   "execution_count": null,
   "metadata": {
    "collapsed": false
   },
   "outputs": [],
   "source": [
    "\"\"\"\n",
    "Now, print the first 15 elements of the vector of singular values.\n",
    "How are they ordered?\n",
    "\"\"\"\n",
    "pass"
   ]
  },
  {
   "cell_type": "code",
   "execution_count": null,
   "metadata": {
    "collapsed": false
   },
   "outputs": [],
   "source": [
    "\"\"\"\n",
    "Plot the first 15 right singular vectors of the Faces dataset.\n",
    "What do you observe? \n",
    "\"\"\"\n",
    "pass"
   ]
  },
  {
   "cell_type": "markdown",
   "metadata": {},
   "source": [
    "How are these singular vectors related to the dataset? Think about the relationship between SVD and eigendecomposition."
   ]
  },
  {
   "cell_type": "markdown",
   "metadata": {},
   "source": [
    "*Write your answer HERE*"
   ]
  }
 ],
 "metadata": {
  "anaconda-cloud": {},
  "kernelspec": {
   "display_name": "Python [conda root]",
   "language": "python",
   "name": "conda-root-py"
  },
  "language_info": {
   "codemirror_mode": {
    "name": "ipython",
    "version": 3
   },
   "file_extension": ".py",
   "mimetype": "text/x-python",
   "name": "python",
   "nbconvert_exporter": "python",
   "pygments_lexer": "ipython3",
   "version": "3.5.2"
  }
 },
 "nbformat": 4,
 "nbformat_minor": 1
}
