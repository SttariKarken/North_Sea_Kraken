{
 "cells": [
  {
   "cell_type": "code",
   "execution_count": 1,
   "metadata": {
    "collapsed": true
   },
   "outputs": [],
   "source": [
    "#To intstall gym library\n",
    "#pip install gym"
   ]
  },
  {
   "cell_type": "code",
   "execution_count": 1,
   "metadata": {
    "collapsed": true
   },
   "outputs": [],
   "source": [
    "import gym\n",
    "import torch\n",
    "import torch.nn as nn\n",
    "import torch.optim as optim\n",
    "from torch.autograd import Variable\n",
    "from torch.distributions import Bernoulli\n",
    "import torch.nn.functional as F\n",
    "import numpy as np"
   ]
  },
  {
   "cell_type": "code",
   "execution_count": 2,
   "metadata": {},
   "outputs": [
    {
     "name": "stdout",
     "output_type": "stream",
     "text": [
      "\u001b[33mWARN: gym.spaces.Box autodetected dtype as <type 'numpy.float32'>. Please provide explicit dtype.\u001b[0m\n"
     ]
    }
   ],
   "source": [
    "env = gym.make('CartPole-v0')"
   ]
  },
  {
   "cell_type": "code",
   "execution_count": 3,
   "metadata": {},
   "outputs": [
    {
     "data": {
      "text/plain": [
       "Discrete(2)"
      ]
     },
     "execution_count": 3,
     "metadata": {},
     "output_type": "execute_result"
    }
   ],
   "source": [
    "env.action_space"
   ]
  },
  {
   "cell_type": "code",
   "execution_count": 4,
   "metadata": {},
   "outputs": [
    {
     "data": {
      "text/plain": [
       "Box(4,)"
      ]
     },
     "execution_count": 4,
     "metadata": {},
     "output_type": "execute_result"
    }
   ],
   "source": [
    "env.observation_space"
   ]
  },
  {
   "cell_type": "code",
   "execution_count": 5,
   "metadata": {},
   "outputs": [
    {
     "data": {
      "text/plain": [
       "array([4.8000002e+00, 3.4028235e+38, 4.1887903e-01, 3.4028235e+38],\n",
       "      dtype=float32)"
      ]
     },
     "execution_count": 5,
     "metadata": {},
     "output_type": "execute_result"
    }
   ],
   "source": [
    "env.observation_space.high"
   ]
  },
  {
   "cell_type": "code",
   "execution_count": 6,
   "metadata": {},
   "outputs": [
    {
     "data": {
      "text/plain": [
       "array([-4.8000002e+00, -3.4028235e+38, -4.1887903e-01, -3.4028235e+38],\n",
       "      dtype=float32)"
      ]
     },
     "execution_count": 6,
     "metadata": {},
     "output_type": "execute_result"
    }
   ],
   "source": [
    "env.observation_space.low"
   ]
  },
  {
   "cell_type": "code",
   "execution_count": 7,
   "metadata": {},
   "outputs": [
    {
     "name": "stdout",
     "output_type": "stream",
     "text": [
      "[ 0.02797955 -0.03454348  0.00434813 -0.0289451 ]\n",
      "[ 0.02728868 -0.22972751  0.00376923  0.26510654]\n",
      "[ 0.02269413 -0.03465956  0.00907136 -0.02638516]\n",
      "[ 0.02200093 -0.22991042  0.00854366  0.26914602]\n",
      "[ 0.01740273 -0.42515325  0.01392658  0.56451138]\n",
      "[ 0.00889966 -0.23022943  0.02521681  0.27624829]\n",
      "[ 0.00429507 -0.03547616  0.03074177 -0.00837579]\n",
      "[ 0.00358555 -0.23102519  0.03057426  0.29384583]\n",
      "[-0.00103495 -0.03635218  0.03645117  0.01096022]\n",
      "[-0.001762   -0.23197742  0.03667038  0.31491742]\n",
      "[-0.00640155 -0.42760202  0.04296873  0.61893573]\n",
      "[-0.01495359 -0.23310575  0.05534744  0.34008952]\n",
      "[-0.0196157  -0.42896975  0.06214923  0.64969947]\n",
      "[-0.0281951  -0.62489983  0.07514322  0.96128731]\n",
      "[-0.04069309 -0.82094687  0.09436897  1.27659935]\n",
      "[-0.05711203 -0.62714638  0.11990095  1.01489538]\n",
      "[-0.06965496 -0.43380975  0.14019886  0.76213901]\n",
      "[-0.07833115 -0.63055581  0.15544164  1.09544603]\n",
      "[-0.09094227 -0.43778421  0.17735056  0.85529096]\n",
      "[-0.09969795 -0.63482198  0.19445638  1.19807984]\n",
      "Episode finished after 20 timesteps\n",
      "[-0.0022238  -0.04379102  0.04255714 -0.03803975]\n",
      "[-0.00309962 -0.23949659  0.04179634  0.26776083]\n",
      "[-0.00788955 -0.43518934  0.04715156  0.57332814]\n",
      "[-0.01659334 -0.63093958  0.05861812  0.88048458]\n",
      "[-0.02921213 -0.43666085  0.07622782  0.60679087]\n",
      "[-0.03794535 -0.63276122  0.08836363  0.92247651]\n",
      "[-0.05060057 -0.43893713  0.10681316  0.65881981]\n",
      "[-0.05937932 -0.63537081  0.11998956  0.98313447]\n",
      "[-0.07208673 -0.44204303  0.13965225  0.73042021]\n",
      "[-0.08092759 -0.24909905  0.15426065  0.48474631]\n",
      "[-0.08590957 -0.05645206  0.16395558  0.24438019]\n",
      "[-0.08703861  0.1359948   0.16884318  0.00756842]\n",
      "[-0.08431872  0.32834363  0.16899455 -0.22744759]\n",
      "[-0.07775185  0.13126036  0.1644456   0.1134142 ]\n",
      "[-0.07512664  0.32369092  0.16671388 -0.1232082 ]\n",
      "[-0.06865282  0.51608082  0.16424972 -0.35900478]\n",
      "[-0.0583312   0.70853339  0.15706962 -0.59572581]\n",
      "[-0.04416054  0.9011489   0.14515511 -0.83510358]\n",
      "[-0.02613756  0.70437399  0.12845304 -0.5005194 ]\n",
      "[-0.01205008  0.89747339  0.11844265 -0.75012072]\n",
      "[ 0.00589939  1.09077991  0.10344023 -1.00330823]\n",
      "[ 0.02771499  0.89443961  0.08337407 -0.68001476]\n",
      "[ 0.04560378  0.6982646   0.06977377 -0.36229082]\n",
      "[ 0.05956907  0.89232905  0.06252796 -0.63218234]\n",
      "[ 0.07741565  0.69639304  0.04988431 -0.32048144]\n",
      "[ 0.09134351  0.50059748  0.04347468 -0.01249353]\n",
      "[0.10135546 0.30487988 0.04322481 0.293583  ]\n",
      "[0.10745306 0.10916916 0.04909647 0.59957901]\n",
      "[0.10963644 0.30357108 0.06108805 0.32275607]\n",
      "[0.11570787 0.49777236 0.06754317 0.04994623]\n",
      "[0.12566331 0.30175019 0.0685421  0.36315165]\n",
      "[0.13169832 0.10572441 0.07580513 0.67663549]\n",
      "[0.1338128  0.29971578 0.08933784 0.40874947]\n",
      "[0.13980712 0.10344826 0.09751283 0.72820709]\n",
      "[0.14187609 0.29709664 0.11207697 0.46773779]\n",
      "[0.14781802 0.49047155 0.12143173 0.21237698]\n",
      "[ 0.15762745  0.68366697  0.12567927 -0.03966892]\n",
      "[ 0.17130079  0.87678358  0.12488589 -0.29020659]\n",
      "[0.18883646 0.68012265 0.11908176 0.03910846]\n",
      "[0.20243891 0.48351221 0.11986393 0.36686293]\n",
      "[0.21210916 0.28690905 0.12720118 0.69480737]\n",
      "[0.21784734 0.48005867 0.14109733 0.44472006]\n",
      "[0.22744851 0.28325186 0.14999173 0.77834167]\n",
      "[0.23311355 0.47602818 0.16555857 0.53635625]\n",
      "[0.24263411 0.66848271 0.17628569 0.30007392]\n",
      "[0.25600377 0.86071133 0.18228717 0.06775974]\n",
      "[0.27321799 0.66350764 0.18364236 0.41196038]\n",
      "[0.28648815 0.85561619 0.19188157 0.18233089]\n",
      "[0.30360047 0.65834059 0.19552819 0.52888108]\n",
      "[0.31676728 0.46108323 0.20610581 0.87624875]\n",
      "Episode finished after 50 timesteps\n",
      "[-0.02782374 -0.04536368  0.03497382 -0.02379097]\n",
      "[-0.02873101 -0.24096928  0.034498    0.2797182 ]\n",
      "[-0.0335504  -0.04635599  0.04009236 -0.00188763]\n",
      "[-0.03447752  0.14816873  0.04005461 -0.28165623]\n",
      "[-0.03151414 -0.047501    0.03442148  0.02338584]\n",
      "[-0.03246416 -0.24309924  0.0348892   0.32672733]\n",
      "[-0.03732615 -0.04849094  0.04142375  0.04524787]\n",
      "[-0.03829597 -0.24418165  0.04232871  0.35070723]\n",
      "[-0.0431796  -0.04968644  0.04934285  0.07166665]\n",
      "[-0.04417333 -0.24547979  0.05077618  0.37950014]\n",
      "[-0.04908292 -0.0511143   0.05836619  0.10324944]\n",
      "[-0.05010521 -0.24702202  0.06043117  0.41376055]\n",
      "[-0.05504565 -0.05280638  0.06870639  0.14072483]\n",
      "[-0.05610178 -0.24884165  0.07152088  0.45426775]\n",
      "[-0.06107861 -0.05480003  0.08060624  0.18495865]\n",
      "[-0.06217461 -0.25097724  0.08430541  0.50194159]\n",
      "[-0.06719416 -0.44718005  0.09434424  0.81995698]\n",
      "[-0.07613776 -0.64345777  0.11074338  1.14076034]\n",
      "[-0.08900691 -0.44994372  0.13355859  0.88475945]\n",
      "[-0.09800579 -0.64660155  0.15125378  1.21626872]\n",
      "[-0.11093782 -0.45371883  0.17557915  0.97454712]\n",
      "[-0.1200122  -0.65070576  0.19507009  1.31684011]\n",
      "Episode finished after 22 timesteps\n",
      "[-0.03632934  0.01523146  0.00061781 -0.02923653]\n",
      "[-3.60247146e-02 -1.79899342e-01  3.30756452e-05  2.63641254e-01]\n",
      "[-0.0396227  -0.37502176  0.0053059   0.55633461]\n",
      "[-0.04712314 -0.5702178   0.01643259  0.85068448]\n",
      "[-0.05852749 -0.76555992  0.03344628  1.14848906]\n",
      "[-0.07383869 -0.96110215  0.05641606  1.45146973]\n",
      "[-0.09306073 -0.7667169   0.08544546  1.17693327]\n",
      "[-0.10839507 -0.96283846  0.10898412  1.49513278]\n",
      "[-0.12765184 -1.15910395  0.13888678  1.81976231]\n",
      "[-0.15083392 -0.96577217  0.17528203  1.57325869]\n",
      "[-0.17014936 -1.16249791  0.2067472   1.9150952 ]\n",
      "Episode finished after 11 timesteps\n",
      "[ 0.0010571  -0.04353845 -0.01812716 -0.00276599]\n",
      "[ 1.86334494e-04 -2.38395800e-01 -1.81824826e-02  2.84142926e-01]\n",
      "[-0.00458158 -0.0430193  -0.01249962 -0.01421874]\n",
      "[-0.00544197 -0.23795978 -0.012784    0.27449435]\n",
      "[-0.01020116 -0.43289702 -0.00729411  0.56311792]\n",
      "[-0.0188591  -0.23767348  0.00396825  0.26814595]\n",
      "[-0.02361257 -0.43285184  0.00933117  0.56207784]\n",
      "[-0.03226961 -0.23786207  0.02057272  0.27234924]\n",
      "[-0.03702685 -0.43327144  0.02601971  0.57144923]\n",
      "[-0.04569228 -0.62874841  0.03744869  0.87221437]\n",
      "[-0.05826725 -0.4341552   0.05489298  0.59153654]\n",
      "[-0.06695035 -0.23984298  0.06672371  0.31663767]\n",
      "[-0.07174721 -0.43584874  0.07305646  0.62959429]\n",
      "[-0.08046419 -0.63191004  0.08564835  0.94436127]\n",
      "[-0.09310239 -0.82807485  0.10453557  1.26267974]\n",
      "[-0.10966388 -0.63443316  0.12978917  1.00448032]\n",
      "[-0.12235255 -0.44126111  0.14987878  0.75521031]\n",
      "[-0.13117777 -0.63809629  0.16498298  1.09105263]\n",
      "[-0.1439397  -0.83496235  0.18680403  1.43062715]\n",
      "Episode finished after 19 timesteps\n"
     ]
    }
   ],
   "source": [
    "env.reset()\n",
    "for i_episode in range(20):\n",
    "    observation = env.reset()\n",
    "    for t in range(100):\n",
    "        env.render()\n",
    "        action = env.action_space.sample()\n",
    "        observation, reward, done, info = env.step(action)\n",
    "        print(observation, reward)\n",
    "        if done:\n",
    "            print(\"Episode finished after {} timesteps\".format(t+1))\n",
    "            break\n",
    "env.close()"
   ]
  },
  {
   "cell_type": "code",
   "execution_count": 7,
   "metadata": {
    "collapsed": true
   },
   "outputs": [],
   "source": [
    "class Agent(nn.Module):\n",
    "    def __init__(self, input_dim):\n",
    "        super(Agent, self).__init__()\n",
    "        self.linear = nn.Linear(input_dim, 2)\n",
    "        self.Softmax= nn.Softmax()\n",
    "\n",
    "    def forward(self, input):\n",
    "        out = F.softmax(self.linear(input))\n",
    "        return out"
   ]
  },
  {
   "cell_type": "code",
   "execution_count": null,
   "metadata": {
    "collapsed": true
   },
   "outputs": [],
   "source": []
  },
  {
   "cell_type": "code",
   "execution_count": 8,
   "metadata": {
    "collapsed": true
   },
   "outputs": [],
   "source": [
    "## hyperparameters\n",
    "episodes = 5000\n",
    "learning_rate = 0.001\n",
    "gamma = 0.99\n"
   ]
  },
  {
   "cell_type": "code",
   "execution_count": 9,
   "metadata": {
    "collapsed": true
   },
   "outputs": [],
   "source": [
    "def discount_rewards(r):\n",
    "    # compute discounted rewards using episode rewards (Q-value estimation)\n",
    "    r = np.asarray(r)\n",
    "    discounted_r = np.zeros_like(r)\n",
    "    running_add = 0\n",
    "    for t in reversed(xrange(0, r.size)):\n",
    "        running_add = running_add * gamma + r[t]\n",
    "        discounted_r[t] = running_add\n",
    "    return discounted_r"
   ]
  },
  {
   "cell_type": "code",
   "execution_count": 10,
   "metadata": {
    "collapsed": true,
    "scrolled": true
   },
   "outputs": [],
   "source": [
    "agent = Agent(4)\n",
    "optimizer = optim.SGD(agent.parameters(), lr=learning_rate)"
   ]
  },
  {
   "cell_type": "code",
   "execution_count": 11,
   "metadata": {
    "collapsed": true
   },
   "outputs": [],
   "source": [
    "def finish_ep(ep_logps, ep_rewards):\n",
    "    R = discount_rewards(ep_rewards)\n",
    "    for log_prob, r in zip(ep_logps, R):\n",
    "        (-log_prob * r).backward()\n",
    "    optimizer.step()\n",
    "    optimizer.zero_grad()"
   ]
  },
  {
   "cell_type": "code",
   "execution_count": 12,
   "metadata": {},
   "outputs": [
    {
     "name": "stderr",
     "output_type": "stream",
     "text": [
      "/Users/ccmbrucrew/anaconda2/lib/python2.7/site-packages/torch/tensor.py:263: UserWarning: non-inplace resize is deprecated\n",
      "  warnings.warn(\"non-inplace resize is deprecated\")\n",
      "/Users/ccmbrucrew/anaconda2/lib/python2.7/site-packages/ipykernel_launcher.py:8: UserWarning: Implicit dimension choice for softmax has been deprecated. Change the call to include dim=X as an argument.\n",
      "  \n",
      "/Users/ccmbrucrew/anaconda2/lib/python2.7/site-packages/ipykernel_launcher.py:20: UserWarning: invalid index of a 0-dim tensor. This will be an error in PyTorch 0.5. Use tensor.item() to convert a 0-dim tensor to a Python number\n"
     ]
    },
    {
     "name": "stdout",
     "output_type": "stream",
     "text": [
      "('average of 50 latest episode rewards:', 0.26)\n",
      "('average of 50 latest episode rewards:', 34.86)\n",
      "('average of 50 latest episode rewards:', 49.26)\n",
      "('average of 50 latest episode rewards:', 87.66)\n",
      "('average of 50 latest episode rewards:', 101.78)\n",
      "('average of 50 latest episode rewards:', 114.38)\n",
      "('average of 50 latest episode rewards:', 151.52)\n",
      "('average of 50 latest episode rewards:', 74.16)\n",
      "('average of 50 latest episode rewards:', 131.74)\n",
      "('average of 50 latest episode rewards:', 125.96)\n",
      "('average of 50 latest episode rewards:', 188.3)\n",
      "('average of 50 latest episode rewards:', 108.7)\n",
      "('average of 50 latest episode rewards:', 139.8)\n",
      "('average of 50 latest episode rewards:', 190.76)\n",
      "('average of 50 latest episode rewards:', 117.22)\n",
      "('average of 50 latest episode rewards:', 177.48)\n",
      "('average of 50 latest episode rewards:', 192.52)\n",
      "('average of 50 latest episode rewards:', 189.24)\n",
      "('average of 50 latest episode rewards:', 152.52)\n",
      "('average of 50 latest episode rewards:', 155.4)\n",
      "('average of 50 latest episode rewards:', 192.2)\n",
      "('average of 50 latest episode rewards:', 191.64)\n",
      "('average of 50 latest episode rewards:', 197.36)\n",
      "('average of 50 latest episode rewards:', 173.44)\n",
      "('average of 50 latest episode rewards:', 176.5)\n",
      "('average of 50 latest episode rewards:', 200.0)\n",
      "('average of 50 latest episode rewards:', 194.64)\n"
     ]
    },
    {
     "name": "stderr",
     "output_type": "stream",
     "text": [
      "ERROR:root:Internal Python error in the inspect module.\n",
      "Below is the traceback from this internal error.\n",
      "\n"
     ]
    },
    {
     "name": "stdout",
     "output_type": "stream",
     "text": [
      "Traceback (most recent call last):\n",
      "  File \"/Users/ccmbrucrew/anaconda2/lib/python2.7/site-packages/IPython/core/ultratb.py\", line 1132, in get_records\n",
      "    return _fixed_getinnerframes(etb, number_of_lines_of_context, tb_offset)\n",
      "  File \"/Users/ccmbrucrew/anaconda2/lib/python2.7/site-packages/IPython/core/ultratb.py\", line 313, in wrapped\n",
      "    return f(*args, **kwargs)\n",
      "  File \"/Users/ccmbrucrew/anaconda2/lib/python2.7/site-packages/IPython/core/ultratb.py\", line 358, in _fixed_getinnerframes\n",
      "    records = fix_frame_records_filenames(inspect.getinnerframes(etb, context))\n",
      "  File \"/Users/ccmbrucrew/anaconda2/lib/python2.7/inspect.py\", line 1051, in getinnerframes\n",
      "    framelist.append((tb.tb_frame,) + getframeinfo(tb, context))\n",
      "  File \"/Users/ccmbrucrew/anaconda2/lib/python2.7/inspect.py\", line 1011, in getframeinfo\n",
      "    filename = getsourcefile(frame) or getfile(frame)\n",
      "  File \"/Users/ccmbrucrew/anaconda2/lib/python2.7/inspect.py\", line 453, in getsourcefile\n",
      "    if hasattr(getmodule(object, filename), '__loader__'):\n",
      "  File \"/Users/ccmbrucrew/anaconda2/lib/python2.7/inspect.py\", line 499, in getmodule\n",
      "    os.path.realpath(f)] = module.__name__\n",
      "  File \"/Users/ccmbrucrew/anaconda2/lib/python2.7/posixpath.py\", line 375, in realpath\n",
      "    path, ok = _joinrealpath('', filename, {})\n",
      "  File \"/Users/ccmbrucrew/anaconda2/lib/python2.7/posixpath.py\", line 400, in _joinrealpath\n",
      "    if not islink(newpath):\n",
      "  File \"/Users/ccmbrucrew/anaconda2/lib/python2.7/posixpath.py\", line 135, in islink\n",
      "    st = os.lstat(path)\n",
      "KeyboardInterrupt\n"
     ]
    },
    {
     "ename": "IndexError",
     "evalue": "string index out of range",
     "output_type": "error",
     "traceback": [
      "\u001b[0;31m---------------------------------------------------------------------------\u001b[0m",
      "\u001b[0;31mIndexError\u001b[0m                                Traceback (most recent call last)",
      "\u001b[0;32m/Users/ccmbrucrew/anaconda2/lib/python2.7/site-packages/IPython/core/interactiveshell.pyc\u001b[0m in \u001b[0;36mrun_code\u001b[0;34m(self, code_obj, result)\u001b[0m\n\u001b[1;32m   2884\u001b[0m             \u001b[0;32mif\u001b[0m \u001b[0mresult\u001b[0m \u001b[0;32mis\u001b[0m \u001b[0;32mnot\u001b[0m \u001b[0mNone\u001b[0m\u001b[0;34m:\u001b[0m\u001b[0;34m\u001b[0m\u001b[0m\n\u001b[1;32m   2885\u001b[0m                 \u001b[0mresult\u001b[0m\u001b[0;34m.\u001b[0m\u001b[0merror_in_exec\u001b[0m \u001b[0;34m=\u001b[0m \u001b[0msys\u001b[0m\u001b[0;34m.\u001b[0m\u001b[0mexc_info\u001b[0m\u001b[0;34m(\u001b[0m\u001b[0;34m)\u001b[0m\u001b[0;34m[\u001b[0m\u001b[0;36m1\u001b[0m\u001b[0;34m]\u001b[0m\u001b[0;34m\u001b[0m\u001b[0m\n\u001b[0;32m-> 2886\u001b[0;31m             \u001b[0mself\u001b[0m\u001b[0;34m.\u001b[0m\u001b[0mshowtraceback\u001b[0m\u001b[0;34m(\u001b[0m\u001b[0;34m)\u001b[0m\u001b[0;34m\u001b[0m\u001b[0m\n\u001b[0m\u001b[1;32m   2887\u001b[0m         \u001b[0;32melse\u001b[0m\u001b[0;34m:\u001b[0m\u001b[0;34m\u001b[0m\u001b[0m\n\u001b[1;32m   2888\u001b[0m             \u001b[0moutflag\u001b[0m \u001b[0;34m=\u001b[0m \u001b[0;36m0\u001b[0m\u001b[0;34m\u001b[0m\u001b[0m\n",
      "\u001b[0;32m/Users/ccmbrucrew/anaconda2/lib/python2.7/site-packages/IPython/core/interactiveshell.pyc\u001b[0m in \u001b[0;36mshowtraceback\u001b[0;34m(self, exc_tuple, filename, tb_offset, exception_only)\u001b[0m\n\u001b[1;32m   1810\u001b[0m                     \u001b[0;32mexcept\u001b[0m \u001b[0mException\u001b[0m\u001b[0;34m:\u001b[0m\u001b[0;34m\u001b[0m\u001b[0m\n\u001b[1;32m   1811\u001b[0m                         stb = self.InteractiveTB.structured_traceback(etype,\n\u001b[0;32m-> 1812\u001b[0;31m                                             value, tb, tb_offset=tb_offset)\n\u001b[0m\u001b[1;32m   1813\u001b[0m \u001b[0;34m\u001b[0m\u001b[0m\n\u001b[1;32m   1814\u001b[0m                     \u001b[0mself\u001b[0m\u001b[0;34m.\u001b[0m\u001b[0m_showtraceback\u001b[0m\u001b[0;34m(\u001b[0m\u001b[0metype\u001b[0m\u001b[0;34m,\u001b[0m \u001b[0mvalue\u001b[0m\u001b[0;34m,\u001b[0m \u001b[0mstb\u001b[0m\u001b[0;34m)\u001b[0m\u001b[0;34m\u001b[0m\u001b[0m\n",
      "\u001b[0;32m/Users/ccmbrucrew/anaconda2/lib/python2.7/site-packages/IPython/core/ultratb.pyc\u001b[0m in \u001b[0;36mstructured_traceback\u001b[0;34m(self, etype, value, tb, tb_offset, number_of_lines_of_context)\u001b[0m\n\u001b[1;32m   1404\u001b[0m         \u001b[0mself\u001b[0m\u001b[0;34m.\u001b[0m\u001b[0mtb\u001b[0m \u001b[0;34m=\u001b[0m \u001b[0mtb\u001b[0m\u001b[0;34m\u001b[0m\u001b[0m\n\u001b[1;32m   1405\u001b[0m         return FormattedTB.structured_traceback(\n\u001b[0;32m-> 1406\u001b[0;31m             self, etype, value, tb, tb_offset, number_of_lines_of_context)\n\u001b[0m\u001b[1;32m   1407\u001b[0m \u001b[0;34m\u001b[0m\u001b[0m\n\u001b[1;32m   1408\u001b[0m \u001b[0;34m\u001b[0m\u001b[0m\n",
      "\u001b[0;32m/Users/ccmbrucrew/anaconda2/lib/python2.7/site-packages/IPython/core/ultratb.pyc\u001b[0m in \u001b[0;36mstructured_traceback\u001b[0;34m(self, etype, value, tb, tb_offset, number_of_lines_of_context)\u001b[0m\n\u001b[1;32m   1312\u001b[0m             \u001b[0;31m# Verbose modes need a full traceback\u001b[0m\u001b[0;34m\u001b[0m\u001b[0;34m\u001b[0m\u001b[0m\n\u001b[1;32m   1313\u001b[0m             return VerboseTB.structured_traceback(\n\u001b[0;32m-> 1314\u001b[0;31m                 \u001b[0mself\u001b[0m\u001b[0;34m,\u001b[0m \u001b[0metype\u001b[0m\u001b[0;34m,\u001b[0m \u001b[0mvalue\u001b[0m\u001b[0;34m,\u001b[0m \u001b[0mtb\u001b[0m\u001b[0;34m,\u001b[0m \u001b[0mtb_offset\u001b[0m\u001b[0;34m,\u001b[0m \u001b[0mnumber_of_lines_of_context\u001b[0m\u001b[0;34m\u001b[0m\u001b[0m\n\u001b[0m\u001b[1;32m   1315\u001b[0m             )\n\u001b[1;32m   1316\u001b[0m         \u001b[0;32melse\u001b[0m\u001b[0;34m:\u001b[0m\u001b[0;34m\u001b[0m\u001b[0m\n",
      "\u001b[0;32m/Users/ccmbrucrew/anaconda2/lib/python2.7/site-packages/IPython/core/ultratb.pyc\u001b[0m in \u001b[0;36mstructured_traceback\u001b[0;34m(self, etype, evalue, etb, tb_offset, number_of_lines_of_context)\u001b[0m\n\u001b[1;32m   1196\u001b[0m                 \u001b[0mstructured_traceback_parts\u001b[0m \u001b[0;34m+=\u001b[0m \u001b[0mformatted_exception\u001b[0m\u001b[0;34m\u001b[0m\u001b[0m\n\u001b[1;32m   1197\u001b[0m         \u001b[0;32melse\u001b[0m\u001b[0;34m:\u001b[0m\u001b[0;34m\u001b[0m\u001b[0m\n\u001b[0;32m-> 1198\u001b[0;31m             \u001b[0mstructured_traceback_parts\u001b[0m \u001b[0;34m+=\u001b[0m \u001b[0mformatted_exception\u001b[0m\u001b[0;34m[\u001b[0m\u001b[0;36m0\u001b[0m\u001b[0;34m]\u001b[0m\u001b[0;34m\u001b[0m\u001b[0m\n\u001b[0m\u001b[1;32m   1199\u001b[0m \u001b[0;34m\u001b[0m\u001b[0m\n\u001b[1;32m   1200\u001b[0m         \u001b[0;32mreturn\u001b[0m \u001b[0mstructured_traceback_parts\u001b[0m\u001b[0;34m\u001b[0m\u001b[0m\n",
      "\u001b[0;31mIndexError\u001b[0m: string index out of range"
     ]
    }
   ],
   "source": [
    "## RUN POLICY GRADIENT ALGORITHM\n",
    "total_reward = []\n",
    "collector = []\n",
    "for i in range(episodes):\n",
    "    done = False\n",
    "    reward = 0\n",
    "    t = 0\n",
    "    observation = Variable(torch.FloatTensor(env.reset())).resize(1,4)\n",
    "    decay = 1\n",
    "    running_reward = 0\n",
    "    ep_actions = []\n",
    "    ep_log_probs = []\n",
    "    ep_rewards = []\n",
    "    while not done:\n",
    "        t += 1\n",
    "        bernoulli_obj = Bernoulli((agent(observation)[0][0]).clamp(0,1))\n",
    "        action = bernoulli_obj.sample()\n",
    "        \n",
    "        ep_log_probs.append(bernoulli_obj.log_prob(action))\n",
    "        observation, reward, done, info = env.step(int(action.data[0]))\n",
    "        observation = Variable(torch.FloatTensor(observation)).resize(1, 4)\n",
    "        ep_rewards.append(reward)\n",
    "        running_reward += reward\n",
    "    finish_ep(ep_log_probs, ep_rewards)\n",
    "    total_reward.append(running_reward)\n",
    "        \n",
    "    if i%50 == 0:\n",
    "        print(\"average of 50 latest episode rewards:\", sum(total_reward[-50:]) / 50)\n",
    "        \n",
    "    if i%10 == 0:\n",
    "        collector.append(sum(total_reward[-50:]) / 50)\n"
   ]
  },
  {
   "cell_type": "code",
   "execution_count": 14,
   "metadata": {},
   "outputs": [
    {
     "data": {
      "image/png": "[encoded data removed]",
      "text/plain": [
       "<matplotlib.figure.Figure at 0x113aec7d0>"
      ]
     },
     "metadata": {},
     "output_type": "display_data"
    }
   ],
   "source": [
    "import matplotlib.pyplot as plt\n",
    "\n",
    "plt.plot([x*10 for x in range(len(collector))], collector)\n",
    "plt.ylabel('reward')\n",
    "\n",
    "plt.show()\n"
   ]
  },
  {
   "cell_type": "code",
   "execution_count": 2,
   "metadata": {},
   "outputs": [
    {
     "ename": "NameError",
     "evalue": "name 'Variable' is not defined",
     "output_type": "error",
     "traceback": [
      "\u001b[0;31m---------------------------------------------------------------------------\u001b[0m",
      "\u001b[0;31mNameError\u001b[0m                                 Traceback (most recent call last)",
      "\u001b[0;32m<ipython-input-2-46e8991ff495>\u001b[0m in \u001b[0;36m<module>\u001b[0;34m()\u001b[0m\n\u001b[1;32m      1\u001b[0m \u001b[0;32mfor\u001b[0m \u001b[0m_\u001b[0m \u001b[0;32min\u001b[0m \u001b[0mrange\u001b[0m\u001b[0;34m(\u001b[0m\u001b[0;36m100\u001b[0m\u001b[0;34m)\u001b[0m\u001b[0;34m:\u001b[0m\u001b[0;34m\u001b[0m\u001b[0m\n\u001b[1;32m      2\u001b[0m     \u001b[0mdone\u001b[0m \u001b[0;34m=\u001b[0m \u001b[0mFalse\u001b[0m\u001b[0;34m\u001b[0m\u001b[0m\n\u001b[0;32m----> 3\u001b[0;31m     \u001b[0mobservation\u001b[0m \u001b[0;34m=\u001b[0m \u001b[0mVariable\u001b[0m\u001b[0;34m(\u001b[0m\u001b[0mtorch\u001b[0m\u001b[0;34m.\u001b[0m\u001b[0mFloatTensor\u001b[0m\u001b[0;34m(\u001b[0m\u001b[0menv\u001b[0m\u001b[0;34m.\u001b[0m\u001b[0mreset\u001b[0m\u001b[0;34m(\u001b[0m\u001b[0;34m)\u001b[0m\u001b[0;34m)\u001b[0m\u001b[0;34m)\u001b[0m\u001b[0;34m.\u001b[0m\u001b[0mresize\u001b[0m\u001b[0;34m(\u001b[0m\u001b[0;36m1\u001b[0m\u001b[0;34m,\u001b[0m\u001b[0;36m4\u001b[0m\u001b[0;34m)\u001b[0m\u001b[0;34m\u001b[0m\u001b[0m\n\u001b[0m\u001b[1;32m      4\u001b[0m     \u001b[0;32mwhile\u001b[0m \u001b[0;32mnot\u001b[0m \u001b[0mdone\u001b[0m\u001b[0;34m:\u001b[0m\u001b[0;34m\u001b[0m\u001b[0m\n\u001b[1;32m      5\u001b[0m         \u001b[0menv\u001b[0m\u001b[0;34m.\u001b[0m\u001b[0mrender\u001b[0m\u001b[0;34m(\u001b[0m\u001b[0;34m)\u001b[0m\u001b[0;34m\u001b[0m\u001b[0m\n",
      "\u001b[0;31mNameError\u001b[0m: name 'Variable' is not defined"
     ]
    }
   ],
   "source": [
    "for _ in range(100):\n",
    "    done = False\n",
    "    observation = Variable(torch.FloatTensor(env.reset())).resize(1,4)\n",
    "    while not done:\n",
    "        env.render()\n",
    "        bernoulli_obj = Bernoulli((agent(observation)[0][0]).clamp(0,1))\n",
    "        action = bernoulli_obj.sample()\n",
    "        observation, reward, done, info = env.step(int(action.data[0]))\n",
    "        observation = Variable(torch.FloatTensor(observation)).resize(1, 4)\n"
   ]
  },
  {
   "cell_type": "code",
   "execution_count": null,
   "metadata": {
    "collapsed": true
   },
   "outputs": [],
   "source": [
    "https://www.youtube.com/watch?v=bsUY9wplVYw"
   ]
  },
  {
   "cell_type": "code",
   "execution_count": null,
   "metadata": {
    "collapsed": true
   },
   "outputs": [],
   "source": [
    "https://www.youtube.com/watch?v=gn4nRCC9TwQ&t=41s"
   ]
  }
 ],
 "metadata": {
  "kernelspec": {
   "display_name": "Python 2",
   "language": "python",
   "name": "python2"
  }
 },
 "nbformat": 4,
 "nbformat_minor": 2
}
