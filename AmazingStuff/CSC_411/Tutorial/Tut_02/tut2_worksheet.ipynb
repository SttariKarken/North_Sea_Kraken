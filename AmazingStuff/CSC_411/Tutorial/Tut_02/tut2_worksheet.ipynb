{
 "cells": [
  {
   "cell_type": "code",
   "execution_count": 23,
   "metadata": {},
   "outputs": [],
   "source": [
    "import numpy as np\n",
    "import time"
   ]
  },
  {
   "cell_type": "markdown",
   "metadata": {},
   "source": [
    "For this exercise you will be provided with a problem and and asked to construct two solutions.  The first solution should be without numpy and the second with numpy.  The vectorized forms with numpy should perform magnitudes more quickly."
   ]
  },
  {
   "cell_type": "code",
   "execution_count": 24,
   "metadata": {},
   "outputs": [
    {
     "name": "stdout",
     "output_type": "stream",
     "text": [
      "Vector argument: [      0       1       2 ... 9999997 9999998 9999999]\n",
      "Matrix argument: [[  0   1   2 ...  97  98  99]\n",
      " [  1   2   3 ...  98  99 100]\n",
      " [  2   3   4 ...  99 100 101]\n",
      " ...\n",
      " [197 198 199 ... 294 295 296]\n",
      " [198 199 200 ... 295 296 297]\n",
      " [199 200 201 ... 296 297 298]]\n"
     ]
    }
   ],
   "source": [
    "arg_length = 10000000\n",
    "arg_vector = np.arange(arg_length)  # An example vector argument.\n",
    "print(f\"Vector argument: {arg_vector}\")\n",
    "\n",
    "num_rows, num_cols = 200, 100\n",
    "arg_matrix = np.array([[i + j for j in range(num_cols)] for i in range(num_rows)])  # An example matrix argument.\n",
    "print(f\"Matrix argument: {arg_matrix}\")"
   ]
  },
  {
   "cell_type": "markdown",
   "metadata": {},
   "source": [
    "<b>Problem 1</b>:  Construct a function which takes a vector, and returns an vector with each element doubled."
   ]
  },
  {
   "cell_type": "code",
   "execution_count": 25,
   "metadata": {},
   "outputs": [
    {
     "name": "stdout",
     "output_type": "stream",
     "text": [
      "[0, 2, 4, 6, 8]\n",
      "Runtime: 2.5139989852905273\n"
     ]
    }
   ],
   "source": [
    "def doubler(x):\n",
    "    \"\"\"Take an array and return an array with each element doubled.  This version does not use numpy.\n",
    "    \n",
    "    :param x: An array of numbers.\n",
    "    :return: An array of doubled numbers.\n",
    "    \"\"\"  \n",
    "    new_x = [None] * len(x)\n",
    "    for i in range(len(x)):\n",
    "        new_x[i] = x[i] * 2\n",
    "    return new_x\n",
    "\n",
    "start_time = time.time()\n",
    "print(doubler(arg_vector)[:5])\n",
    "print(f\"Runtime: {time.time() - start_time}\")"
   ]
  },
  {
   "cell_type": "code",
   "execution_count": 26,
   "metadata": {},
   "outputs": [
    {
     "name": "stdout",
     "output_type": "stream",
     "text": [
      "[0 2 4 6 8]\n",
      "Runtime: 0.02846217155456543\n"
     ]
    }
   ],
   "source": [
    "def doubler_numpy(x):\n",
    "    \"\"\"Take an array and return an array with each element doubled.  This version uses numpy.\n",
    "    \n",
    "    :param x: An array of numbers.\n",
    "    :return: An array of doubled numbers.\n",
    "    \"\"\" \n",
    "    return x * 2\n",
    "\n",
    "start_time = time.time()\n",
    "print(doubler_numpy(arg_vector)[:5])\n",
    "print(f\"Runtime: {time.time() - start_time}\")"
   ]
  },
  {
   "cell_type": "markdown",
   "metadata": {},
   "source": [
    "<b>Problem 2</b>: Construct a function which takes two vectors and returns the elementwise summation."
   ]
  },
  {
   "cell_type": "code",
   "execution_count": 27,
   "metadata": {},
   "outputs": [
    {
     "name": "stdout",
     "output_type": "stream",
     "text": [
      "[0, 2, 4, 6, 8]\n",
      "Runtime: 2.389622926712036\n"
     ]
    }
   ],
   "source": [
    "def adder(a, b):\n",
    "    \"\"\"Take two arrays and return an array with their elementwise addition.  This version does not use numpy.\n",
    "    \n",
    "    :param a: An array of numbers.\n",
    "    :param b: An array of numbers.\n",
    "    :return: An array of the elementwise addition of a and b.\n",
    "    \"\"\" \n",
    "    c = [None] * len(a)\n",
    "    for i in range(len(a)):\n",
    "        c[i] = a[i] + b[i]\n",
    "    return c\n",
    "            \n",
    "start_time = time.time()\n",
    "print(adder(arg_vector, arg_vector)[:5])\n",
    "print(f\"Runtime: {time.time() - start_time}\")"
   ]
  },
  {
   "cell_type": "code",
   "execution_count": 28,
   "metadata": {},
   "outputs": [
    {
     "name": "stdout",
     "output_type": "stream",
     "text": [
      "[0 2 4 6 8]\n",
      "Runtime: 0.03220081329345703\n"
     ]
    }
   ],
   "source": [
    "def adder_numpy(a, b):\n",
    "    \"\"\"Take two arrays and return an array with their elementwise addition.  This version uses numpy.\n",
    "    \n",
    "    :param a: An array of numbers.\n",
    "    :param b: An array of numbers.\n",
    "    :return: An array of the elementwise addition of a and b.\n",
    "    \"\"\"\n",
    "    return np.add(a, b) #a + b\n",
    "\n",
    "start_time = time.time()\n",
    "print(adder_numpy(arg_vector, arg_vector)[:5])\n",
    "print(f\"Runtime: {time.time() - start_time}\")"
   ]
  },
  {
   "cell_type": "markdown",
   "metadata": {},
   "source": [
    "<b>Problem 3</b>: Construct a function which takes a matrix and returns the tranpose."
   ]
  },
  {
   "cell_type": "code",
   "execution_count": 35,
   "metadata": {},
   "outputs": [
    {
     "name": "stdout",
     "output_type": "stream",
     "text": [
      "[0, 1, 2, 3, 4]\n",
      "Runtime: 0.0033500194549560547\n"
     ]
    }
   ],
   "source": [
    "def transposer(A):\n",
    "    \"\"\"Take an mxn matrix (with m,n > 0) and return a nxm matrix with the transpose.\n",
    "    \n",
    "    :param A: A mxn matrix.\n",
    "    :return: A nxm matrix.\n",
    "    \"\"\"  \n",
    "    num_rows_input, num_cols_input = A.shape\n",
    "    # This is a list comprehension to construct the transpose\n",
    "    return [[A[i, j] for i in range(num_rows_input)] \n",
    "                   for j in range(num_cols_input)]\n",
    "\n",
    "start_time = time.time()\n",
    "print(transposer(arg_matrix)[0][:5])\n",
    "print(f\"Runtime: {time.time() - start_time}\")"
   ]
  },
  {
   "cell_type": "code",
   "execution_count": 34,
   "metadata": {},
   "outputs": [
    {
     "name": "stdout",
     "output_type": "stream",
     "text": [
      "[0 1 2 3 4]\n",
      "Runtime: 0.00023317337036132812\n"
     ]
    }
   ],
   "source": [
    "def transposer_numpy(A):\n",
    "    \"\"\"Take an mxn matrix (with m,n > 0) and return a nxm matrix with the transpose.\n",
    "    \n",
    "    :param A: A mxn matrix.\n",
    "    :return: A nxm matrix.\n",
    "    \"\"\"\n",
    "    return A.T\n",
    "\n",
    "start_time = time.time()\n",
    "print(transposer_numpy(arg_matrix)[0][:5])\n",
    "print(f\"Runtime: {time.time() - start_time}\")"
   ]
  },
  {
   "cell_type": "markdown",
   "metadata": {},
   "source": [
    "<b>Problem 4:</b> Construct a function which takes two matrices and returns their dot product."
   ]
  },
  {
   "cell_type": "code",
   "execution_count": 31,
   "metadata": {},
   "outputs": [
    {
     "name": "stdout",
     "output_type": "stream",
     "text": [
      "[328350 333300 338250 343200 348150]\n",
      "Runtime: 2.051680088043213\n"
     ]
    }
   ],
   "source": [
    "def dot(A, B):\n",
    "    \"\"\"Take an mxn matrix and a nxk (with m,n, k > 0) and return a mxr matrix with the transpose.\n",
    "    \n",
    "    :param A: A mxn matrix.\n",
    "    :param B: A nxp matrix.\n",
    "    :return: A mxp matrix.\n",
    "    \"\"\"  \n",
    "    num_rows_output = A.shape[0]\n",
    "    num_cols_output = B.shape[1]\n",
    "    C = np.array([[0] * num_cols_output] * num_rows_output)\n",
    "    for i in range(num_rows_output):\n",
    "        for j in range(num_cols_output):\n",
    "            for k in range(A.shape[1]):  # dot product between row of A and column of B.\n",
    "                C[i][j] += A[i, k] * B[k, j]\n",
    "    return C\n",
    "\n",
    "start_time = time.time()\n",
    "print(dot(arg_matrix, arg_matrix.T)[0][:5])\n",
    "print(f\"Runtime: {time.time() - start_time}\")"
   ]
  },
  {
   "cell_type": "code",
   "execution_count": 32,
   "metadata": {},
   "outputs": [
    {
     "name": "stdout",
     "output_type": "stream",
     "text": [
      "[328350 333300 338250 343200 348150]\n",
      "Runtime: 0.0023589134216308594\n"
     ]
    }
   ],
   "source": [
    "def dot_numpy(A, B):\n",
    "    \"\"\"Take an mxn matrix and a nxk (with m,n, k > 0) and return a mxr matrix with the transpose.\n",
    "    \n",
    "    :param A: A mxn matrix.\n",
    "    :param B: A nxr matrix.\n",
    "    :return: A nxr matrix.\n",
    "    \"\"\"  \n",
    "    return np.dot(A, B)\n",
    "\n",
    "start_time = time.time()\n",
    "print(dot_numpy(arg_matrix, arg_matrix.T)[0][:5])\n",
    "print(f\"Runtime: {time.time() - start_time}\")"
   ]
  }
 ],
 "metadata": {
  "kernelspec": {
   "display_name": "Python 3",
   "language": "python",
   "name": "python3"
  },
  "language_info": {
   "codemirror_mode": {
    "name": "ipython",
    "version": 3
   },
   "file_extension": ".py",
   "mimetype": "text/x-python",
   "name": "python",
   "nbconvert_exporter": "python",
   "pygments_lexer": "ipython3",
   "version": "3.7.0"
  }
 },
 "nbformat": 4,
 "nbformat_minor": 2
}
